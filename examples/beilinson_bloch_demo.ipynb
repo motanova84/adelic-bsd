{
 "cells": [
  {
   "cell_type": "markdown",
   "metadata": {},
   "source": [
    "# Beilinson-Bloch Heights Demo\n",
    "\n",
    "This notebook demonstrates the use of Beilinson-Bloch regulatory height pairings for verifying Poitou-Tate compatibility (PT) in ranks r ≥ 2.\n",
    "\n",
    "## Theoretical Background\n",
    "\n",
    "For elliptic curves of rank r ≥ 2, the Birch–Swinnerton-Dyer conjecture involves the **regulator**, which is the determinant of the height pairing matrix:\n",
    "\n",
    "$$\\text{Reg} = \\det(\\langle P_i, P_j \\rangle)_{i,j=1}^r$$\n",
    "\n",
    "where $P_1, \\ldots, P_r$ are independent generators of $E(\\mathbb{Q})$ modulo torsion.\n",
    "\n",
    "The Beilinson-Bloch construction provides a canonical way to compute these height pairings via higher Chow cycles."
   ]
  },
  {
   "cell_type": "code",
   "execution_count": null,
   "metadata": {},
   "outputs": [],
   "source": [
    "# Setup\n",
    "import sys\n",
    "sys.path.insert(0, '..')\n",
    "\n",
    "from sage.all import EllipticCurve\n",
    "from src.beilinson_bloch_heights import (\n",
    "    BeilinsonBlochHeightPairing,\n",
    "    BeilinsonBlochVerifier,\n",
    "    batch_verify_beilinson_bloch,\n",
    "    find_high_rank_curves\n",
    ")\n",
    "\n",
    "import numpy as np\n",
    "import matplotlib.pyplot as plt"
   ]
  },
  {
   "cell_type": "markdown",
   "metadata": {},
   "source": [
    "## Example 1: Rank 1 Curve (11a1)\n",
    "\n",
    "First, let's verify a rank 1 curve to understand the basics."
   ]
  },
  {
   "cell_type": "code",
   "execution_count": null,
   "metadata": {},
   "outputs": [],
   "source": [
    "# Rank 1 example\n",
    "E = EllipticCurve('11a1')\n",
    "print(f\"Curve: {E}\")\n",
    "print(f\"Conductor: {E.conductor()}\")\n",
    "print(f\"Rank: {E.rank()}\")\n",
    "\n",
    "# Get generator\n",
    "gens = E.gens()\n",
    "print(f\"\\nGenerators: {gens}\")\n",
    "\n",
    "# Initialize height pairing\n",
    "height_pairing = BeilinsonBlochHeightPairing(E)\n",
    "\n",
    "if gens:\n",
    "    P = gens[0]\n",
    "    h_PP = height_pairing.compute_height_pairing(P, P)\n",
    "    print(f\"\\nHeight ⟨P,P⟩ = {h_PP:.6f}\")\n",
    "    \n",
    "    # Compare with canonical height\n",
    "    h_canonical = P.height()\n",
    "    print(f\"Canonical height ĥ(P) = {h_canonical:.6f}\")"
   ]
  },
  {
   "cell_type": "markdown",
   "metadata": {},
   "source": [
    "## Example 2: Rank 2 Curve (389a1)\n",
    "\n",
    "Now let's look at a rank 2 curve, which requires computing a 2×2 height matrix."
   ]
  },
  {
   "cell_type": "code",
   "execution_count": null,
   "metadata": {},
   "outputs": [],
   "source": [
    "# Rank 2 example\n",
    "E = EllipticCurve('389a1')\n",
    "print(f\"Curve: {E}\")\n",
    "print(f\"Conductor: {E.conductor()}\")\n",
    "print(f\"Rank: {E.rank()}\")\n",
    "\n",
    "# Get generators\n",
    "gens = E.gens()\n",
    "print(f\"\\nNumber of generators: {len(gens)}\")\n",
    "\n",
    "if len(gens) >= 2:\n",
    "    # Compute height matrix\n",
    "    height_pairing = BeilinsonBlochHeightPairing(E)\n",
    "    H = height_pairing.compute_height_matrix(gens)\n",
    "    \n",
    "    print(f\"\\nHeight matrix:\")\n",
    "    print(H)\n",
    "    \n",
    "    # Compute regulator\n",
    "    reg = height_pairing.compute_regulator(gens)\n",
    "    print(f\"\\nRegulator (Beilinson-Bloch): {reg:.6f}\")\n",
    "    \n",
    "    # Compare with SageMath regulator\n",
    "    try:\n",
    "        reg_sage = E.regulator()\n",
    "        print(f\"Regulator (SageMath): {reg_sage:.6f}\")\n",
    "        print(f\"Relative difference: {abs(reg - reg_sage)/reg_sage * 100:.2f}%\")\n",
    "    except:\n",
    "        print(\"SageMath regulator not available\")"
   ]
  },
  {
   "cell_type": "markdown",
   "metadata": {},
   "source": [
    "## Example 3: Regulator Verification\n",
    "\n",
    "Use the verifier to check compatibility between algebraic and analytic regulators."
   ]
  },
  {
   "cell_type": "code",
   "execution_count": null,
   "metadata": {},
   "outputs": [],
   "source": [
    "# Verify regulator compatibility\n",
    "E = EllipticCurve('389a1')\n",
    "verifier = BeilinsonBlochVerifier(E)\n",
    "\n",
    "result = verifier.verify_regulator_compatibility()\n",
    "\n",
    "print(\"=== Regulator Verification ===\")\n",
    "print(f\"Rank: {result['rank']}\")\n",
    "print(f\"Algebraic regulator: {result['algebraic_regulator']:.6f}\")\n",
    "print(f\"Analytic regulator: {result['analytic_regulator']:.6f}\")\n",
    "print(f\"Compatible: {result['compatible']}\")\n",
    "print(f\"Relative error: {result['relative_error']*100:.2f}%\")"
   ]
  },
  {
   "cell_type": "markdown",
   "metadata": {},
   "source": [
    "## Example 4: Generate Certificate\n",
    "\n",
    "Generate a formal LaTeX certificate for the verification."
   ]
  },
  {
   "cell_type": "code",
   "execution_count": null,
   "metadata": {},
   "outputs": [],
   "source": [
    "# Generate certificate\n",
    "certificate = verifier.generate_certificate(result)\n",
    "\n",
    "# Save certificate\n",
    "filename = f'certificate_BB_heights_{E.label()}.tex'\n",
    "with open(filename, 'w') as f:\n",
    "    f.write(certificate)\n",
    "\n",
    "print(f\"Certificate saved to: {filename}\")\n",
    "print(\"\\n=== Certificate Preview ===\")\n",
    "print(certificate[:500] + \"...\")"
   ]
  },
  {
   "cell_type": "markdown",
   "metadata": {},
   "source": [
    "## Example 5: Batch Verification\n",
    "\n",
    "Verify multiple curves with ranks ≥ 2."
   ]
  },
  {
   "cell_type": "code",
   "execution_count": null,
   "metadata": {},
   "outputs": [],
   "source": [
    "# Find high-rank curves\n",
    "print(\"Finding curves with rank ≥ 2...\")\n",
    "high_rank_curves = find_high_rank_curves(conductor_limit=500, target_rank=2)\n",
    "print(f\"Found {len(high_rank_curves)} curves\")\n",
    "print(f\"First 10: {high_rank_curves[:10]}\")\n",
    "\n",
    "# Batch verification on a subset\n",
    "test_curves = high_rank_curves[:5]  # First 5 curves\n",
    "print(f\"\\nVerifying {len(test_curves)} curves...\")\n",
    "\n",
    "batch_results = batch_verify_beilinson_bloch(test_curves, max_rank=3)\n",
    "\n",
    "print(\"\\n=== Batch Results ===\")\n",
    "print(f\"Total curves: {batch_results['total_curves']}\")\n",
    "print(f\"Verified: {batch_results['verified']}\")\n",
    "print(f\"Success rate: {batch_results['success_rate']*100:.1f}%\")"
   ]
  },
  {
   "cell_type": "markdown",
   "metadata": {},
   "source": [
    "## Example 6: Visualization\n",
    "\n",
    "Visualize the height matrix for a rank 2 curve."
   ]
  },
  {
   "cell_type": "code",
   "execution_count": null,
   "metadata": {},
   "outputs": [],
   "source": [
    "# Visualize height matrix\n",
    "E = EllipticCurve('389a1')\n",
    "gens = E.gens()\n",
    "\n",
    "if len(gens) >= 2:\n",
    "    height_pairing = BeilinsonBlochHeightPairing(E)\n",
    "    H = height_pairing.compute_height_matrix(gens)\n",
    "    \n",
    "    plt.figure(figsize=(8, 6))\n",
    "    plt.imshow(H, cmap='viridis', aspect='auto')\n",
    "    plt.colorbar(label='Height value')\n",
    "    plt.title(f'Height Matrix for {E.label()}')\n",
    "    plt.xlabel('Generator index')\n",
    "    plt.ylabel('Generator index')\n",
    "    \n",
    "    # Add values as text\n",
    "    for i in range(H.shape[0]):\n",
    "        for j in range(H.shape[1]):\n",
    "            plt.text(j, i, f'{H[i,j]:.2f}', \n",
    "                    ha='center', va='center', color='white', fontsize=12)\n",
    "    \n",
    "    plt.tight_layout()\n",
    "    plt.savefig(f'height_matrix_{E.label()}.png', dpi=150)\n",
    "    plt.show()\n",
    "    \n",
    "    print(f\"Height matrix saved as height_matrix_{E.label()}.png\")"
   ]
  },
  {
   "cell_type": "markdown",
   "metadata": {},
   "source": [
    "## Example 7: Detailed Analysis\n",
    "\n",
    "Analyze the verification results for all tested curves."
   ]
  },
  {
   "cell_type": "code",
   "execution_count": null,
   "metadata": {},
   "outputs": [],
   "source": [
    "# Detailed analysis\n",
    "print(\"=== Detailed Verification Results ===\")\n",
    "print()\n",
    "\n",
    "for curve_label, result in batch_results['results'].items():\n",
    "    print(f\"Curve: {curve_label}\")\n",
    "    print(f\"  Rank: {result['rank']}\")\n",
    "    print(f\"  Algebraic reg: {result['algebraic_regulator']:.6f}\")\n",
    "    print(f\"  Analytic reg: {result['analytic_regulator']:.6f}\")\n",
    "    print(f\"  Compatible: {'✓' if result['compatible'] else '✗'}\")\n",
    "    print()"
   ]
  },
  {
   "cell_type": "markdown",
   "metadata": {},
   "source": [
    "## Summary\n",
    "\n",
    "This notebook demonstrated:\n",
    "\n",
    "1. **Height Pairing Computation**: Computing ⟨P, Q⟩_BB for points on E\n",
    "2. **Height Matrix**: Building the matrix for rank ≥ 2 curves\n",
    "3. **Regulator Computation**: det(H) as the Beilinson-Bloch regulator\n",
    "4. **Verification**: Comparing with analytic regulator from L-functions\n",
    "5. **Certificate Generation**: Formal LaTeX certificates\n",
    "6. **Batch Processing**: Verification of multiple high-rank curves\n",
    "\n",
    "### Next Steps\n",
    "\n",
    "- Integrate with modular symbols for explicit cycle construction\n",
    "- Add PARI/GP interface for divisor computations\n",
    "- Extend to larger conductor ranges (N ≤ 1000)\n",
    "- Connect with Poitou-Tate duality verification"
   ]
  }
 ],
 "metadata": {
  "kernelspec": {
   "display_name": "SageMath 9.8",
   "language": "sage",
   "name": "sagemath"
  },
  "language_info": {
   "codemirror_mode": {
    "name": "ipython",
    "version": 3
   },
   "file_extension": ".py",
   "mimetype": "text/x-python",
   "name": "python",
   "nbconvert_exporter": "python",
   "pygments_lexer": "ipython3",
   "version": "3.11.0"
  }
 },
 "nbformat": 4,
 "nbformat_minor": 4
}
