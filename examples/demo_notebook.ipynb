{
 "cells": [
  {
   "cell_type": "markdown",
   "metadata": {},
   "source": [
    "# Spectral Finiteness Algorithm Demo\n",
    "\n",
    "This notebook demonstrates the spectral finiteness algorithm for proving finiteness of Tate–Shafarevich groups.\n",
    "\n",
    "**Framework**: Mota Burruezo Spectral BSD Reduction\n",
    "\n",
    "---"
   ]
  },
  {
   "cell_type": "markdown",
   "metadata": {},
   "source": [
    "## Setup\n",
    "\n",
    "Import necessary modules:"
   ]
  },
  {
   "cell_type": "code",
   "execution_count": null,
   "metadata": {},
   "outputs": [],
   "source": [
    "import sys\n",
    "import os\n",
    "sys.path.append('..')\n",
    "\n",
    "from sage.all import EllipticCurve\n",
    "from src.spectral_finiteness import SpectralFinitenessProver, batch_prove_finiteness"
   ]
  },
  {
   "cell_type": "markdown",
   "metadata": {},
   "source": [
    "---\n",
    "\n",
    "## Example 1: Single Curve Analysis\n",
    "\n",
    "Let's analyze the famous curve **11a1** (first curve of conductor 11):"
   ]
  },
  {
   "cell_type": "code",
   "execution_count": null,
   "metadata": {},
   "outputs": [],
   "source": [
    "# Create the curve\n",
    "E = EllipticCurve('11a1')\n",
    "print(f\"Curve: {E}\")\n",
    "print(f\"Conductor: {E.conductor()}\")\n",
    "print(f\"Rank: {E.rank()}\")"
   ]
  },
  {
   "cell_type": "code",
   "execution_count": null,
   "metadata": {},
   "outputs": [],
   "source": [
    "# Initialize the spectral finiteness prover\n",
    "prover = SpectralFinitenessProver(E)\n",
    "\n",
    "# Prove finiteness\n",
    "result = prover.prove_finiteness()\n",
    "\n",
    "print(f\"Finiteness proved: {result['finiteness_proved']}\")\n",
    "print(f\"Global bound: {result['global_bound']}\")\n",
    "print(f\"\\nConclusion: Ш(E/ℚ) is finite with #Ш ≤ {result['global_bound']}\")"
   ]
  },
  {
   "cell_type": "markdown",
   "metadata": {},
   "source": [
    "### Generate Certificate\n",
    "\n",
    "Generate a formal certificate of finiteness:"
   ]
  },
  {
   "cell_type": "code",
   "execution_count": null,
   "metadata": {},
   "outputs": [],
   "source": [
    "certificate = prover.generate_certificate('text')\n",
    "print(certificate)"
   ]
  },
  {
   "cell_type": "markdown",
   "metadata": {},
   "source": [
    "---\n",
    "\n",
    "## Example 2: Compare with LMFDB Data\n",
    "\n",
    "Compare our spectral bound with known Ш values from LMFDB:"
   ]
  },
  {
   "cell_type": "code",
   "execution_count": null,
   "metadata": {},
   "outputs": [],
   "source": [
    "# Get known Sha (when available)\n",
    "try:\n",
    "    known_sha = E.sha().an()\n",
    "    print(f\"Known #Ш from LMFDB: {known_sha}\")\n",
    "except:\n",
    "    known_sha = \"Not available\"\n",
    "    print(f\"Known #Ш: {known_sha}\")\n",
    "\n",
    "print(f\"Spectral bound: {result['global_bound']}\")\n",
    "\n",
    "if known_sha != \"Not available\":\n",
    "    if result['global_bound'] >= known_sha:\n",
    "        print(f\"✓ Verification: Spectral bound {result['global_bound']} ≥ known #Ш {known_sha}\")\n",
    "    else:\n",
    "        print(f\"✗ Warning: Spectral bound {result['global_bound']} < known #Ш {known_sha}\")"
   ]
  },
  {
   "cell_type": "markdown",
   "metadata": {},
   "source": [
    "---\n",
    "\n",
    "## Example 3: Batch Analysis\n",
    "\n",
    "Analyze multiple curves at once:"
   ]
  },
  {
   "cell_type": "code",
   "execution_count": null,
   "metadata": {},
   "outputs": [],
   "source": [
    "# List of curves to analyze\n",
    "test_curves = ['11a1', '11a2', '11a3', '14a1', '15a1', '17a1', '19a1', '37a1']\n",
    "\n",
    "print(f\"Analyzing {len(test_curves)} curves...\\n\")\n",
    "\n",
    "# Batch processing\n",
    "results = batch_prove_finiteness(test_curves)\n",
    "\n",
    "# Display results in table format\n",
    "print(f\"{'Curve':<10} {'Conductor':<12} {'Rank':<6} {'Bound':<8} {'Known #Ш':<12} {'Status'}\")\n",
    "print(\"=\"*70)\n",
    "\n",
    "for label, result in results.items():\n",
    "    if 'error' in result:\n",
    "        print(f\"{label:<10} ERROR: {result['error']}\")\n",
    "        continue\n",
    "    \n",
    "    E = EllipticCurve(label)\n",
    "    \n",
    "    # Try to get known Sha\n",
    "    known_sha = \"?\"\n",
    "    try:\n",
    "        known_sha = E.sha().an()\n",
    "    except:\n",
    "        pass\n",
    "    \n",
    "    status = \"✓\" if known_sha == \"?\" or result['global_bound'] >= known_sha else \"✗\"\n",
    "    \n",
    "    print(f\"{label:<10} {E.conductor():<12} {E.rank():<6} {result['global_bound']:<8} {known_sha:<12} {status}\")"
   ]
  },
  {
   "cell_type": "markdown",
   "metadata": {},
   "source": [
    "---\n",
    "\n",
    "## Example 4: Detailed Spectral Data\n",
    "\n",
    "Examine the spectral data in detail for curve 37a1:"
   ]
  },
  {
   "cell_type": "code",
   "execution_count": null,
   "metadata": {},
   "outputs": [],
   "source": [
    "E = EllipticCurve('37a1')\n",
    "prover = SpectralFinitenessProver(E)\n",
    "result = prover.prove_finiteness()\n",
    "\n",
    "print(f\"Curve: {E}\")\n",
    "print(f\"Conductor: {result['spectral_data']['conductor']}\")\n",
    "print(f\"Rank: {result['spectral_data']['rank']}\")\n",
    "print(f\"\\nLocal Spectral Data:\")\n",
    "print(\"=\"*50)\n",
    "\n",
    "for p, data in result['spectral_data']['local_data'].items():\n",
    "    print(f\"\\nPrime p = {p}:\")\n",
    "    print(f\"  Reduction type: {data['reduction_type']}\")\n",
    "    print(f\"  Kernel dimension: {data['kernel_dim']}\")\n",
    "    print(f\"  Torsion bound: {data['torsion_bound']}\")\n",
    "\n",
    "print(f\"\\n\" + \"=\"*50)\n",
    "print(f\"Global bound: {result['global_bound']}\")\n",
    "print(f\"Conclusion: Ш(E/ℚ) is FINITE\")"
   ]
  },
  {
   "cell_type": "markdown",
   "metadata": {},
   "source": [
    "---\n",
    "\n",
    "## Example 5: Higher Rank Curves\n",
    "\n",
    "Test on a rank 2 curve (389a1):"
   ]
  },
  {
   "cell_type": "code",
   "execution_count": null,
   "metadata": {},
   "outputs": [],
   "source": [
    "E = EllipticCurve('389a1')\n",
    "print(f\"Curve: {E}\")\n",
    "print(f\"Conductor: {E.conductor()}\")\n",
    "print(f\"Rank: {E.rank()}\")\n",
    "print()\n",
    "\n",
    "prover = SpectralFinitenessProver(E)\n",
    "result = prover.prove_finiteness()\n",
    "\n",
    "print(f\"Finiteness proved: {result['finiteness_proved']}\")\n",
    "print(f\"Global bound: {result['global_bound']}\")\n",
    "\n",
    "try:\n",
    "    known_sha = E.sha().an()\n",
    "    print(f\"Known #Ш: {known_sha}\")\n",
    "    print(f\"Verification: {result['global_bound']} ≥ {known_sha} ✓\")\n",
    "except:\n",
    "    print(f\"Known #Ш: Not available\")"
   ]
  },
  {
   "cell_type": "markdown",
   "metadata": {},
   "source": [
    "---\n",
    "\n",
    "## Summary\n",
    "\n",
    "This notebook demonstrates:\n",
    "\n",
    "1. ✅ **Single curve analysis** - Proving finiteness for individual curves\n",
    "2. ✅ **Certificate generation** - Formal documentation of finiteness\n",
    "3. ✅ **LMFDB comparison** - Validation against known data\n",
    "4. ✅ **Batch processing** - Analyzing multiple curves efficiently\n",
    "5. ✅ **Detailed inspection** - Examining local spectral data\n",
    "6. ✅ **Higher rank cases** - Testing on rank ≥ 2 curves\n",
    "\n",
    "### Theoretical Foundation\n",
    "\n",
    "The algorithm is based on the **Mota Burruezo Spectral BSD Framework**, which:\n",
    "\n",
    "- Constructs spectral operators on adèlic spaces\n",
    "- Proves the spectral identity: $\\det(I - M_E(s)) = c(s) \\cdot L(E,s)$\n",
    "- Reduces BSD to two explicit compatibilities: (dR) and (PT)\n",
    "\n",
    "**Reference**: *A Complete Spectral Reduction of the Birch and Swinnerton–Dyer Conjecture* (2025)\n",
    "\n",
    "---\n",
    "\n",
    "## Next Steps\n",
    "\n",
    "- Explore more curves from LMFDB\n",
    "- Generate certificates for your favorite curves\n",
    "- Test on curves with larger conductors\n",
    "- Compare with other BSD verification methods\n",
    "\n",
    "For more information, see:\n",
    "- `docs/MANUAL.md` - Technical manual\n",
    "- `docs/BSD_FRAMEWORK.md` - Theoretical foundations\n",
    "- `README.md` - Project overview"
   ]
  }
 ],
 "metadata": {
  "kernelspec": {
   "display_name": "SageMath 9.8",
   "language": "sage",
   "name": "sagemath"
  },
  "language_info": {
   "codemirror_mode": {
    "name": "ipython",
    "version": 3
   },
   "file_extension": ".py",
   "mimetype": "text/x-python",
   "name": "python",
   "nbconvert_exporter": "python",
   "pygments_lexer": "ipython3",
   "version": "3.10.0"
  }
 },
 "nbformat": 4,
 "nbformat_minor": 4
}
