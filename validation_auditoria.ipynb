{
 "cells": [
  {
   "cell_type": "markdown",
   "id": "c0e03334",
   "metadata": {},
   "source": [
    "# 🚀 Ejecución Completa del Framework Adelic-BSD\n",
    "Secuencia recomendada para validar, auditar y documentar el estado del sistema."
   ]
  },
  {
   "cell_type": "code",
   "execution_count": null,
   "id": "c1a7f1ea",
   "metadata": {
    "vscode": {
     "languageId": "bash"
    }
   },
   "outputs": [],
   "source": [
    "# 1. Verifica que estás en la raíz correcta\n",
    "pwd\n",
    "ls -la *.py | head -10"
   ]
  },
  {
   "cell_type": "code",
   "execution_count": null,
   "id": "0cf01c02",
   "metadata": {},
   "outputs": [],
   "source": [
    "# 2. Verificación del repositorio\n",
    "python validate_repository.py --verbose"
   ]
  },
  {
   "cell_type": "code",
   "execution_count": null,
   "id": "f3435848",
   "metadata": {},
   "outputs": [],
   "source": [
    "# 3. Validación V5 Coronación (principal)\n",
    "python validate_v5_coronacion.py --precision 30 --full"
   ]
  },
  {
   "cell_type": "code",
   "execution_count": null,
   "id": "48162e55",
   "metadata": {},
   "outputs": [],
   "source": [
    "# 4. Verificación del cierre mínimo\n",
    "python verify_cierre_minimo.py --full"
   ]
  },
  {
   "cell_type": "code",
   "execution_count": null,
   "id": "b7801780",
   "metadata": {
    "vscode": {
     "languageId": "bash"
    }
   },
   "outputs": [],
   "source": [
    "# 5. Tests completos\n",
    "pytest tests/ -v --tb=short -x"
   ]
  },
  {
   "cell_type": "code",
   "execution_count": null,
   "id": "fae14ae9",
   "metadata": {
    "vscode": {
     "languageId": "bash"
    }
   },
   "outputs": [],
   "source": [
    "# 6. Verificación del operador H\n",
    "cd spectral_RH\n",
    "python operador/operador_H_real.py\n",
    "cd .."
   ]
  },
  {
   "cell_type": "code",
   "execution_count": null,
   "id": "acc13b24",
   "metadata": {},
   "outputs": [],
   "source": [
    "# 7. Verificación de no-circularidad\n",
    "python verificacion_no_circular.py"
   ]
  },
  {
   "cell_type": "code",
   "execution_count": null,
   "id": "83fad595",
   "metadata": {
    "vscode": {
     "languageId": "bash"
    }
   },
   "outputs": [],
   "source": [
    "# 8. Notebook de validación (exporta resultados)\n",
    "jupyter nbconvert --execute validation_notebook.ipynb --to html --output validation_results.html"
   ]
  },
  {
   "cell_type": "markdown",
   "id": "66e4f686",
   "metadata": {},
   "source": [
    "## 🔍 Correcciones inmediatas\n",
    "- Si algún test falla, revisa dependencias y datos.\n",
    "- Para fórmulas LaTeX, usa `\\#` en modo matemático.\n",
    "- Verifica dependencias con:\n",
    "```python\n",
    "python -c \"import mpmath, numpy, scipy, sympy; print('✅ Todas las dependencias funcionan')\"\n",
    "```\n",
    "- Si faltan datos de ceros:\n",
    "```bash\n",
    "python utils/fetch_odlyzko.py --precision t1e3\n",
    "```"
   ]
  },
  {
   "cell_type": "markdown",
   "id": "832fb23d",
   "metadata": {},
   "source": [
    "## 📊 Resultados esperados\n",
    "- ✅ Repository integrity verified\n",
    "- ✅ V5 Coronación SUCCESS\n",
    "- ✅ Minimal closure verified\n",
    "- ✅ 18/18 tests passed\n",
    "- ✅ Spectrum matches ζ(s) zeros\n",
    "- ✅ No circularity detected"
   ]
  }
 ],
 "metadata": {
  "language_info": {
   "name": "python"
  }
 },
 "nbformat": 4,
 "nbformat_minor": 5
}
